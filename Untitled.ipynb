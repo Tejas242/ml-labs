{
 "cells": [
  {
   "cell_type": "code",
   "execution_count": 1,
   "id": "071ce58c-c18e-4716-a5f7-688617042f28",
   "metadata": {},
   "outputs": [],
   "source": [
    "import random"
   ]
  },
  {
   "cell_type": "code",
   "execution_count": 2,
   "id": "f8a87b54-f2af-463d-b8a4-fe3e2c4f7378",
   "metadata": {},
   "outputs": [],
   "source": [
    "def gcd(a, b):\n",
    "    while b:\n",
    "        a, b = b, a % b\n",
    "    return a"
   ]
  },
  {
   "cell_type": "code",
   "execution_count": 3,
   "id": "5cfd8dfc-42d0-4760-9a9c-5e074e013ed5",
   "metadata": {},
   "outputs": [],
   "source": [
    "def mod_inv(a, m):\n",
    "    m0, x0, x1 = m, 0, 1\n",
    "    while a > 1:\n",
    "        q = a // m\n",
    "        a, m = m, a % m\n",
    "        x0, x1 = x1 - q * x0, x0\n",
    "    return x1 + m0 if x1 < 0 else x1"
   ]
  },
  {
   "cell_type": "code",
   "execution_count": 4,
   "id": "607b6bfd-cf71-464d-8e02-932642caae7a",
   "metadata": {},
   "outputs": [],
   "source": [
    "def is_prime(n):\n",
    "    if n <= 1: return False\n",
    "    if n <= 3: return True\n",
    "    if n % 2 == 0 or n % 3 == 0: return False\n",
    "    i = 5\n",
    "    while i*i <= n:\n",
    "        if n % i == 0 or n % (i+2) == 0: return False\n",
    "        i += 6\n",
    "    return True"
   ]
  },
  {
   "cell_type": "code",
   "execution_count": 17,
   "id": "4676cc09-7054-457f-8beb-ba9766a44c04",
   "metadata": {},
   "outputs": [],
   "source": [
    "def generate_keypair(p, q):\n",
    "    n = p * q\n",
    "    phi = (p-1) * (q-1)\n",
    "    e = random.randrange(2, phi)\n",
    "    while gcd(phi, e) != 1:\n",
    "        e = random.randrange(2, phi)\n",
    "    d = mod_inv(e, phi)\n",
    "    return ((e, n), (d, n))"
   ]
  },
  {
   "cell_type": "code",
   "execution_count": 18,
   "id": "d127540f-1fa5-48e4-b285-66afb78bbc92",
   "metadata": {},
   "outputs": [],
   "source": [
    "def encrypt(pk, plaintext):\n",
    "    key, n = pk\n",
    "    return [pow(ord(char), key, n) for char in plaintext]"
   ]
  },
  {
   "cell_type": "code",
   "execution_count": 19,
   "id": "2b5a8111-6cf6-4406-929c-3e7dd77150ca",
   "metadata": {},
   "outputs": [],
   "source": [
    "def decrypt(pk, ciphertext):\n",
    "    key, n = pk\n",
    "    return ''.join([chr(pow(char, key, n)) for char in ciphertext])"
   ]
  },
  {
   "cell_type": "code",
   "execution_count": 20,
   "id": "c3007a54-aa0a-40f6-9417-c6ce7dbc21a3",
   "metadata": {},
   "outputs": [
    {
     "name": "stdout",
     "output_type": "stream",
     "text": [
      "Encrypted: [29, 28, 30, 32, 12, 12, 27]\n",
      "Decrypted: \u0011\u0013\u0018 \f",
      "\f",
      "\u0003\n"
     ]
    }
   ],
   "source": [
    "p = 3\n",
    "q = 11\n",
    "public, private = generate_keypair(p, q)\n",
    "message = \"SUZANNE\"\n",
    "encrypted = encrypt(public, message)\n",
    "decrypted = decrypt(private, encrypted)\n",
    "\n",
    "print(f\"Encrypted: {encrypted}\")\n",
    "print(f\"Decrypted: {decrypted}\")"
   ]
  },
  {
   "cell_type": "code",
   "execution_count": null,
   "id": "b85bed3e-b649-4f0c-94e2-fac3b1bf165a",
   "metadata": {},
   "outputs": [],
   "source": []
  }
 ],
 "metadata": {
  "kernelspec": {
   "display_name": "Python 3 (ipykernel)",
   "language": "python",
   "name": "python3"
  },
  "language_info": {
   "codemirror_mode": {
    "name": "ipython",
    "version": 3
   },
   "file_extension": ".py",
   "mimetype": "text/x-python",
   "name": "python",
   "nbconvert_exporter": "python",
   "pygments_lexer": "ipython3",
   "version": "3.12.9"
  }
 },
 "nbformat": 4,
 "nbformat_minor": 5
}
