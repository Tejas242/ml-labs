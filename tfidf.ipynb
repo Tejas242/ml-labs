{
 "cells": [
  {
   "cell_type": "code",
   "execution_count": null,
   "id": "04393148-14cb-4837-ae63-9b0dcdc886cf",
   "metadata": {},
   "outputs": [],
   "source": [
    "from sklearn.datasets import fetch_20newsgroups\n",
    "from sklearn.feature_extraction.text import CountVectorizer, TfidfVectorizer\n",
    "from sklearn.model_selection import train_test_split\n",
    "from sklearn.linear_model import LogisticRegression\n",
    "from sklearn.metrics import classification_report, accuracy_score\n",
    "import matplotlib.pyplot as plt"
   ]
  },
  {
   "cell_type": "code",
   "execution_count": null,
   "id": "c24282cc-ec29-4230-a1b0-57931f493181",
   "metadata": {},
   "outputs": [],
   "source": [
    "# Load subset of 20 Newsgroups\n",
    "categories = ['rec.sport.baseball', 'sci.space', 'comp.graphics']\n",
    "data = fetch_20newsgroups(subset='all', categories=categories, remove=('headers', 'footers', 'quotes'))\n",
    "X = data.data\n",
    "y = data.target"
   ]
  },
  {
   "cell_type": "code",
   "execution_count": null,
   "id": "b1909452-a3f2-4f21-bcc8-f87bf920d20c",
   "metadata": {},
   "outputs": [],
   "source": [
    "# Split into train-test\n",
    "X_train, X_test, y_train, y_test = train_test_split(X, y, test_size=0.3, random_state=42)\n",
    "\n",
    "# Store accuracy scores for plotting\n",
    "model_names = []\n",
    "accuracies = []\n",
    "\n",
    "# 1. BoW\n",
    "print(\"\\n--- Bag of Words ---\")\n",
    "bow_vectorizer = CountVectorizer()\n",
    "X_train_bow = bow_vectorizer.fit_transform(X_train)\n",
    "X_test_bow = bow_vectorizer.transform(X_test)\n",
    "\n",
    "clf_bow = LogisticRegression(max_iter=1000)\n",
    "clf_bow.fit(X_train_bow, y_train)\n",
    "y_pred_bow = clf_bow.predict(X_test_bow)\n",
    "acc_bow = accuracy_score(y_test, y_pred_bow)\n",
    "model_names.append(\"BoW\")\n",
    "accuracies.append(acc_bow)\n",
    "\n",
    "print(classification_report(y_test, y_pred_bow, target_names=data.target_names))"
   ]
  },
  {
   "cell_type": "code",
   "execution_count": null,
   "id": "2da84c8e-2e34-46a0-93b8-bd8b6598afd3",
   "metadata": {},
   "outputs": [],
   "source": [
    "# 2. TF-IDF\n",
    "print(\"\\n--- TF-IDF ---\")\n",
    "tfidf_vectorizer = TfidfVectorizer()\n",
    "X_train_tfidf = tfidf_vectorizer.fit_transform(X_train)\n",
    "X_test_tfidf = tfidf_vectorizer.transform(X_test)"
   ]
  },
  {
   "cell_type": "code",
   "execution_count": null,
   "id": "44a7d682-dc8c-4f98-bb3a-51574713159a",
   "metadata": {},
   "outputs": [],
   "source": [
    "clf_tfidf = LogisticRegression(max_iter=1000)\n",
    "clf_tfidf.fit(X_train_tfidf, y_train)\n",
    "y_pred_tfidf = clf_tfidf.predict(X_test_tfidf)\n",
    "acc_tfidf = accuracy_score(y_test, y_pred_tfidf)\n",
    "model_names.append(\"TF-IDF\")\n",
    "accuracies.append(acc_tfidf)"
   ]
  },
  {
   "cell_type": "code",
   "execution_count": null,
   "id": "19bbb090-0ae2-4b76-9f14-ff5eba6e516d",
   "metadata": {},
   "outputs": [],
   "source": [
    "print(classification_report(y_test, y_pred_tfidf, target_names=data.target_names))"
   ]
  },
  {
   "cell_type": "code",
   "execution_count": null,
   "id": "27217f3e-c56f-46a7-8de7-368d35514617",
   "metadata": {},
   "outputs": [],
   "source": [
    "# 3. N-Gram (Bigrams)\n",
    "print(\"\\n--- N-Gram (Bigrams) ---\")\n",
    "ngram_vectorizer = CountVectorizer(ngram_range=(2,2))\n",
    "X_train_ngram = ngram_vectorizer.fit_transform(X_train)\n",
    "X_test_ngram = ngram_vectorizer.transform(X_test)"
   ]
  },
  {
   "cell_type": "code",
   "execution_count": null,
   "id": "03de79c7-5fed-49f4-9a8b-78e1eaf7c346",
   "metadata": {},
   "outputs": [],
   "source": [
    "clf_ngram = LogisticRegression(max_iter=1000)\n",
    "clf_ngram.fit(X_train_ngram, y_train)\n",
    "y_pred_ngram = clf_ngram.predict(X_test_ngram)\n",
    "acc_ngram = accuracy_score(y_test, y_pred_ngram)\n",
    "model_names.append(\"N-Gram (2-grams)\")\n",
    "accuracies.append(acc_ngram)"
   ]
  },
  {
   "cell_type": "code",
   "execution_count": null,
   "id": "4ab375ce-1c5e-40f9-baf9-aa5e5ed284d4",
   "metadata": {},
   "outputs": [],
   "source": [
    "print(classification_report(y_test, y_pred_ngram, target_names=data.target_names))"
   ]
  },
  {
   "cell_type": "code",
   "execution_count": null,
   "id": "9cd4c490-08c7-4b4c-bd07-479f2be022f4",
   "metadata": {},
   "outputs": [],
   "source": [
    "# Plotting the comparison\n",
    "plt.figure(figsize=(8,5))\n",
    "plt.bar(model_names, accuracies, color=['skyblue', 'lightgreen', 'orange'])\n",
    "plt.title(\"Model Accuracy Comparison\")\n",
    "plt.ylabel(\"Accuracy\")\n",
    "plt.ylim(0, 1)\n",
    "for i, acc in enumerate(accuracies):\n",
    "    plt.text(i, acc + 0.01, f\"{acc:.2f}\", ha='center')\n",
    "plt.grid(axis='y', linestyle='--', alpha=0.7)\n",
    "plt.tight_layout()\n",
    "plt.show()"
   ]
  }
 ],
 "metadata": {
  "kernelspec": {
   "display_name": "Python 3 (ipykernel)",
   "language": "python",
   "name": "python3"
  },
  "language_info": {
   "codemirror_mode": {
    "name": "ipython",
    "version": 3
   },
   "file_extension": ".py",
   "mimetype": "text/x-python",
   "name": "python",
   "nbconvert_exporter": "python",
   "pygments_lexer": "ipython3",
   "version": "3.12.9"
  }
 },
 "nbformat": 4,
 "nbformat_minor": 5
}
